{
 "cells": [
  {
   "cell_type": "code",
   "execution_count": 31,
   "metadata": {},
   "outputs": [],
   "source": [
    "%matplotlib inline\n",
    "\n",
    "# Standard Libraries to import\n",
    "import pandas as pd\n",
    "import matplotlib.pyplot as plt\n",
    "import numpy as np\n",
    "\n",
    "dataset = pd.read_csv('data/processed/clean_dataset.csv', index_col=0)\n"
   ]
  },
  {
   "cell_type": "code",
   "execution_count": 32,
   "metadata": {},
   "outputs": [
    {
     "data": {
      "text/plain": [
       "Index(['age', 'overall', 'potential', 'value', 'wage',\n",
       "       'international reputation', 'weak foot', 'skill moves', 'body type',\n",
       "       'position', 'height', 'weight', 'crossing', 'finishing',\n",
       "       'headingaccuracy', 'shortpassing', 'volleys', 'dribbling', 'curve',\n",
       "       'fkaccuracy', 'longpassing', 'ballcontrol', 'acceleration',\n",
       "       'sprintspeed', 'agility', 'reactions', 'balance', 'shotpower',\n",
       "       'jumping', 'stamina', 'strength', 'longshots', 'aggression',\n",
       "       'interceptions', 'positioning', 'vision', 'penalties', 'composure',\n",
       "       'marking', 'standingtackle', 'slidingtackle', 'gkdiving', 'gkhandling',\n",
       "       'gkkicking', 'gkpositioning', 'gkreflexes', 'preferred foot = left',\n",
       "       'attacking rate', 'defensive rate'],\n",
       "      dtype='object')"
      ]
     },
     "execution_count": 32,
     "metadata": {},
     "output_type": "execute_result"
    }
   ],
   "source": [
    "dataset.columns"
   ]
  },
  {
   "cell_type": "code",
   "execution_count": 33,
   "metadata": {},
   "outputs": [
    {
     "name": "stdout",
     "output_type": "stream",
     "text": [
      "<class 'pandas.core.frame.DataFrame'>\n",
      "Int64Index: 18146 entries, 0 to 18206\n",
      "Data columns (total 49 columns):\n",
      "age                         18146 non-null int64\n",
      "overall                     18146 non-null int64\n",
      "potential                   18146 non-null int64\n",
      "value                       18146 non-null float64\n",
      "wage                        18146 non-null float64\n",
      "international reputation    18146 non-null float64\n",
      "weak foot                   18146 non-null float64\n",
      "skill moves                 18146 non-null float64\n",
      "body type                   18146 non-null int64\n",
      "position                    18146 non-null object\n",
      "height                      18146 non-null float64\n",
      "weight                      18146 non-null float64\n",
      "crossing                    18146 non-null float64\n",
      "finishing                   18146 non-null float64\n",
      "headingaccuracy             18146 non-null float64\n",
      "shortpassing                18146 non-null float64\n",
      "volleys                     18146 non-null float64\n",
      "dribbling                   18146 non-null float64\n",
      "curve                       18146 non-null float64\n",
      "fkaccuracy                  18146 non-null float64\n",
      "longpassing                 18146 non-null float64\n",
      "ballcontrol                 18146 non-null float64\n",
      "acceleration                18146 non-null float64\n",
      "sprintspeed                 18146 non-null float64\n",
      "agility                     18146 non-null float64\n",
      "reactions                   18146 non-null float64\n",
      "balance                     18146 non-null float64\n",
      "shotpower                   18146 non-null float64\n",
      "jumping                     18146 non-null float64\n",
      "stamina                     18146 non-null float64\n",
      "strength                    18146 non-null float64\n",
      "longshots                   18146 non-null float64\n",
      "aggression                  18146 non-null float64\n",
      "interceptions               18146 non-null float64\n",
      "positioning                 18146 non-null float64\n",
      "vision                      18146 non-null float64\n",
      "penalties                   18146 non-null float64\n",
      "composure                   18146 non-null float64\n",
      "marking                     18146 non-null float64\n",
      "standingtackle              18146 non-null float64\n",
      "slidingtackle               18146 non-null float64\n",
      "gkdiving                    18146 non-null float64\n",
      "gkhandling                  18146 non-null float64\n",
      "gkkicking                   18146 non-null float64\n",
      "gkpositioning               18146 non-null float64\n",
      "gkreflexes                  18146 non-null float64\n",
      "preferred foot = left       18146 non-null float64\n",
      "attacking rate              18146 non-null int64\n",
      "defensive rate              18146 non-null int64\n",
      "dtypes: float64(42), int64(6), object(1)\n",
      "memory usage: 6.9+ MB\n"
     ]
    }
   ],
   "source": [
    "dataset.info()"
   ]
  },
  {
   "cell_type": "code",
   "execution_count": 35,
   "metadata": {},
   "outputs": [
    {
     "data": {
      "text/plain": [
       "<matplotlib.axes._subplots.AxesSubplot at 0xf74ba48>"
      ]
     },
     "execution_count": 35,
     "metadata": {},
     "output_type": "execute_result"
    },
    {
     "data": {
      "image/png": "[encoded data removed]",
      "text/plain": [
       "<Figure size 432x288 with 1 Axes>"
      ]
     },
     "metadata": {
      "needs_background": "light"
     },
     "output_type": "display_data"
    }
   ],
   "source": [
    "dataset.overall.hist(bins=[i for i in range(40,100+1,5)])"
   ]
  },
  {
   "cell_type": "code",
   "execution_count": 87,
   "metadata": {},
   "outputs": [
    {
     "data": {
      "text/plain": [
       "<matplotlib.axes._subplots.AxesSubplot at 0x1089c948>"
      ]
     },
     "execution_count": 87,
     "metadata": {},
     "output_type": "execute_result"
    },
    {
     "data": {
      "image/png": "[encoded data removed]",
      "text/plain": [
       "<Figure size 432x288 with 1 Axes>"
      ]
     },
     "metadata": {
      "needs_background": "light"
     },
     "output_type": "display_data"
    }
   ],
   "source": [
    "# Create a column that will categorize Overall Skills level into bins. \n",
    "\n",
    "custom_bins = [i for i in range(45,100,5)]\n",
    "\n",
    "dataset['overall_bins'] = pd.cut(dataset['overall'],\n",
    "                                bins=custom_bins,\n",
    "                                labels=[i for i in range(len(custom_bins)-1)])\n",
    "\n",
    "dataset['overall_bins'].hist()\n"
   ]
  },
  {
   "cell_type": "code",
   "execution_count": 88,
   "metadata": {},
   "outputs": [],
   "source": [
    "### Split the dataset into test and training using train_test_split with an option to dod the stratified split to correctly reflect distribution.\n",
    "\n",
    "\n",
    "from sklearn.model_selection import train_test_split\n",
    "\n",
    "strat_train_set, strat_test_set = train_test_split(\n",
    "    dataset, test_size=0.2, random_state=42, stratify=dataset[\"overall_bins\"])"
   ]
  },
  {
   "cell_type": "code",
   "execution_count": 89,
   "metadata": {},
   "outputs": [
    {
     "name": "stdout",
     "output_type": "stream",
     "text": [
      "4    0.285124\n",
      "3    0.257851\n",
      "5    0.175207\n",
      "2    0.130028\n",
      "6    0.063912\n",
      "1    0.054821\n",
      "7    0.018457\n",
      "0    0.010468\n",
      "8    0.003581\n",
      "9    0.000551\n",
      "Name: overall_bins, dtype: float64\n",
      "3630\n"
     ]
    }
   ],
   "source": [
    "print(strat_test_set[\"overall_bins\"].value_counts()/len(strat_test_set))\n",
    "print(len(strat_test_set.overall))"
   ]
  },
  {
   "cell_type": "code",
   "execution_count": 90,
   "metadata": {},
   "outputs": [
    {
     "name": "stderr",
     "output_type": "stream",
     "text": [
      "c:\\users\\u1082926\\desktop\\ps\\research\\fifa19\\venv\\lib\\site-packages\\pandas\\core\\frame.py:4102: SettingWithCopyWarning: \n",
      "A value is trying to be set on a copy of a slice from a DataFrame\n",
      "\n",
      "See the caveats in the documentation: http://pandas.pydata.org/pandas-docs/stable/user_guide/indexing.html#returning-a-view-versus-a-copy\n",
      "  errors=errors,\n"
     ]
    }
   ],
   "source": [
    "# Now you should remove the income_cat attribute so the data is back to its original state:\n",
    "\n",
    "for set_ in (strat_train_set, strat_test_set):\n",
    "    set_.drop(\"overall_bins\", axis=1, inplace=True)"
   ]
  },
  {
   "cell_type": "code",
   "execution_count": 92,
   "metadata": {},
   "outputs": [],
   "source": [
    "# Copy the training set so that you can work on it separately\n",
    "training_dataset = strat_train_set.copy()"
   ]
  },
  {
   "cell_type": "code",
   "execution_count": null,
   "metadata": {},
   "outputs": [],
   "source": []
  }
 ],
 "metadata": {
  "kernelspec": {
   "display_name": "Python 3",
   "language": "python",
   "name": "python3"
  },
  "language_info": {
   "codemirror_mode": {
    "name": "ipython",
    "version": 3
   },
   "file_extension": ".py",
   "mimetype": "text/x-python",
   "name": "python",
   "nbconvert_exporter": "python",
   "pygments_lexer": "ipython3",
   "version": "3.7.4"
  }
 },
 "nbformat": 4,
 "nbformat_minor": 4
}
