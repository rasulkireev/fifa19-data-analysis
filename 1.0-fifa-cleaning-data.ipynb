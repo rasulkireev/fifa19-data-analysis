{
 "cells": [
  {
   "cell_type": "code",
   "execution_count": 5,
   "metadata": {},
   "outputs": [],
   "source": [
    "import pandas as pd\n",
    "import numpy as np\n",
    "from IPython.display import display #This will help displaying two 'returns' in one output cell\n",
    "\n",
    "# This will ensure that floats in our data show up with 2 decimals and no other format\n",
    "pd.options.display.float_format = '{:.2f}'.format"
   ]
  },
  {
   "cell_type": "code",
   "execution_count": 6,
   "metadata": {
    "jupyter": {
     "source_hidden": true
    },
    "scrolled": true
   },
   "outputs": [],
   "source": [
    "df = pd.read_csv('data/raw/data.csv', index_col=0)\n",
    "\n",
    "# This piece of code is dedicated to clean up the dataframe to make it easer to work with. \n",
    "\n",
    "# This will reduce the number of positions and will increase the number of \n",
    "# observations for each position type. I.E. unnecessary waste removed\n",
    "df['Position'] = df['Position'].map({'GK': 'GK', 'CAM': 'CAM','CB': 'CB', 'CDM': 'CDM',\n",
    "                                      'CM': 'CM','LB': 'LB','LM': 'LM','LW': 'LW',\n",
    "                                      'RB': 'RB','RM': 'RM','RW': 'RW','ST': 'ST',\n",
    "                                      'CF': 'ST','LAM': 'CAM','LCB': 'CB','LCM': 'CM', \n",
    "                                      'LDM': 'CDM','LF': 'LW','LS': 'ST', 'LWB': 'LB', \n",
    "                                      'RAM': 'CAM', 'RCB': 'CB','RCM': 'CM', 'RDM': 'CDM', \n",
    "                                      'RF': 'RW', 'RS': 'ST','RWB': 'RB'})\n",
    "\n",
    "\n",
    "# Function that turn a string variable \"€100M\" to 100,000,000   \n",
    "def money_string_replace(variable_name):\n",
    "    df[variable_name] = (df[variable_name].str[1:].replace(r'[KM]+$', '', regex=True).astype(float) * \n",
    "                 df[variable_name].str.extract(r'[\\d\\.]+([KM]+)', expand=False)\n",
    "                 .fillna(1)\n",
    "                 .replace(['K','M'], [10**3, 10**6]).astype(int))\n",
    "\n",
    "money_string_replace('Value')\n",
    "money_string_replace('Wage')\n",
    "money_string_replace('Release Clause')\n",
    "\n",
    "# Creating a dummy variable to identify if a player is left footed or not\n",
    "df.loc[df['Preferred Foot'] == \"Left\", 'Preferred Foot = Left'] = 1\n",
    "df.loc[df['Preferred Foot'] == \"Right\", 'Preferred Foot = Left'] = 0\n",
    "\n",
    "# Creating a new column to use in regression for a more accurate prediction of player growth. \n",
    "# Potential - Growth\n",
    "df['improvement'] = df['Potential'] - df['Overall']\n",
    "\n",
    "\n",
    "# Splitting the work rate column into attacking and defensive rates. \n",
    "df['Work Rates'] = df['Work Rate'].str.split('/')\n",
    "\n",
    "# Allocating each list item into the according work type\n",
    "df['Attacking Rate'] = df['Work Rates'].str.get(0)\n",
    "# Removing any whitespace\n",
    "df['Attacking Rate'] = df['Attacking Rate'].str.strip()\n",
    "# Creating a numeric variable for each work type\n",
    "df.loc[df['Attacking Rate'] == \"Low\", 'Attacking Rate'] = 1\n",
    "df.loc[df['Attacking Rate'] == \"Medium\", 'Attacking Rate'] = 2\n",
    "df.loc[df['Attacking Rate'] == \"High\", 'Attacking Rate'] = 3\n",
    "\n",
    "df['Defensive Rate'] = df['Work Rates'].str.get(1)\n",
    "df['Defensive Rate'] = df['Defensive Rate'].str.strip()\n",
    "df.loc[df['Defensive Rate'] == \"Low\", 'Defensive Rate'] = 1\n",
    "df.loc[df['Defensive Rate'] == \"Medium\", 'Defensive Rate'] = 2\n",
    "df.loc[df['Defensive Rate'] == \"High\", 'Defensive Rate'] = 3\n",
    "\n",
    "# Converting pounds to kg\n",
    "df[\"Weight\"] = df[\"Weight\"].str[:3].astype(float) /2.205\n",
    "\n",
    "# Converting Feet and Inches string to a CM value\n",
    "# Splitting Feet from Inches\n",
    "df['HeightCM'] = df['Height'].str.split(\"'\")\n",
    "# Further split of feet and inches\n",
    "df['feet'] = df['HeightCM'].str.get(0).astype(float)\n",
    "df['inch'] = df['HeightCM'].str.get(1).astype(float)\n",
    "# Replcaing Old string with new CM value\n",
    "df['Height'] = (df['feet']*12+df['inch'])*2.54\n",
    "\n",
    "df.loc[df['Body Type'] == \"Lean\", 'Body Type'] = 1\n",
    "df.loc[df['Body Type'] == \"Normal\", 'Body Type'] = 2\n",
    "df.loc[df['Body Type'] == \"Stocky\", 'Body Type'] = 3\n",
    "df.loc[df['Body Type'] == \"Messi\", 'Body Type'] = 2\n",
    "df.loc[df['Body Type'] == \"C. Ronaldo\", 'Body Type'] = 2\n",
    "df.loc[df['Body Type'] == \"Neymar\", 'Body Type'] = 1\n",
    "df.loc[df['Body Type'] == \"Courtois\", 'Body Type'] = 2\n",
    "df.loc[df['Body Type'] == \"Shaqiri\", 'Body Type'] = 2\n",
    "df.loc[df['Body Type'] == \"Akinfenwa\", 'Body Type'] = 3\n",
    "df.loc[df['Body Type'] == \"PLAYER_BODY_TYPE_25\", 'Body Type'] = np.nan\n",
    "\n",
    "# Remove rows with Position = NaN\n",
    "df.dropna(subset=['Position'], inplace=True)\n",
    "\n",
    "# Dropping unneccesary columns\n",
    "df.drop([\"Photo\",\"Flag\",\"Club Logo\",\"Special\",\"ID\",'Preferred Foot','Real Face',\n",
    "        'Jersey Number','Loaned From','LS','ST','RS','LW','LF','CF','RF','RW','LAM','CAM','RAM','LM',\n",
    "         'LB','LCB','CB','RCB','RB','LCM','CM','RCM','RM','LWB','LDM','CDM','RDM','RWB','Work Rate','Work Rates',\n",
    "         'HeightCM', 'feet', 'inch'], axis=1, inplace=True)\n",
    "\n",
    "combined_columns_data = df\n",
    "\n",
    "combined_columns_data['control'] = combined_columns_data[['Dribbling', 'BallControl']].mean(axis=1)\n",
    "combined_columns_data['defending'] = combined_columns_data[['Interceptions', 'Marking','StandingTackle','SlidingTackle']].mean(axis=1)\n",
    "combined_columns_data['gk'] = combined_columns_data[['GKDiving', 'GKHandling','GKKicking','GKPositioning','GKReflexes']].mean(axis=1)\n",
    "combined_columns_data['passing'] = combined_columns_data[['Crossing', 'ShortPassing','Volleys','LongPassing']].mean(axis=1)\n",
    "combined_columns_data['physical'] = combined_columns_data[['Agility', 'Reactions','Balance','Jumping','Stamina','Strength','Composure']].mean(axis=1)\n",
    "combined_columns_data['shooting'] = combined_columns_data[['Finishing', 'Curve','FKAccuracy','ShotPower', 'LongShots','Penalties']].mean(axis=1)\n",
    "combined_columns_data['skill'] = combined_columns_data[['Positioning', 'Vision']].mean(axis=1)\n",
    "combined_columns_data['speed'] = combined_columns_data[['Acceleration', 'SprintSpeed']].mean(axis=1)\n",
    "combined_columns_data['heading'] = combined_columns_data[['HeadingAccuracy']].mean(axis=1)\n",
    "\n",
    "combined_columns_data.drop(['Dribbling', 'BallControl','Interceptions', 'Marking',\n",
    "                             'StandingTackle','SlidingTackle','GKDiving', 'GKHandling',\n",
    "                             'GKKicking','GKPositioning','GKReflexes','Crossing',\n",
    "                             'ShortPassing','Volleys','LongPassing','Agility',\n",
    "                             'Reactions','Balance','Jumping','Stamina',\n",
    "                             'Strength','Composure','Finishing', 'Curve',\n",
    "                             'FKAccuracy','ShotPower', 'LongShots','Penalties',\n",
    "                             'Positioning', 'Vision','Acceleration', 'SprintSpeed','HeadingAccuracy'], axis=1, inplace=True)\n",
    "\n",
    "# Make all column names lower case for future ease of use\n",
    "combined_columns_data.columns = map(str.lower, combined_columns_data.columns)   \n",
    "\n",
    "combined_columns_data.to_csv('data/processed/reduced_clean_data.csv')"
   ]
  },
  {
   "cell_type": "code",
   "execution_count": 7,
   "metadata": {},
   "outputs": [
    {
     "data": {
      "text/plain": [
       "array(['RW', 'ST', 'LW', 'GK', 'CM', 'CB', 'CDM', 'CAM', 'RM', 'LM', 'LB',\n",
       "       'RB'], dtype=object)"
      ]
     },
     "execution_count": 7,
     "metadata": {},
     "output_type": "execute_result"
    }
   ],
   "source": [
    "combined_columns_data.position.unique()"
   ]
  },
  {
   "cell_type": "code",
   "execution_count": null,
   "metadata": {},
   "outputs": [],
   "source": []
  }
 ],
 "metadata": {
  "kernelspec": {
   "display_name": "Python 3",
   "language": "python",
   "name": "python3"
  },
  "language_info": {
   "codemirror_mode": {
    "name": "ipython",
    "version": 3
   },
   "file_extension": ".py",
   "mimetype": "text/x-python",
   "name": "python",
   "nbconvert_exporter": "python",
   "pygments_lexer": "ipython3",
   "version": "3.7.4"
  }
 },
 "nbformat": 4,
 "nbformat_minor": 4
}
