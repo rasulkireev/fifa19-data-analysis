{
 "cells": [
  {
   "cell_type": "code",
   "execution_count": 12,
   "metadata": {},
   "outputs": [],
   "source": [
    "import pandas as pd\n",
    "import numpy as np\n",
    "\n",
    "# Display all floats with 2 decimals\n",
    "pd.options.display.float_format = '{:.2f}'.format\n",
    "\n",
    "df = pd.read_csv('data/raw/data.csv', index_col=0)"
   ]
  },
  {
   "cell_type": "code",
   "execution_count": 13,
   "metadata": {},
   "outputs": [],
   "source": [
    "df['Position'] = df['Position'].map({'GK': 'GK', 'CAM': 'CAM','CB': 'CB', 'CDM': 'CDM',\n",
    "                                      'CM': 'CM','LB': 'LB','LM': 'LM','LW': 'LW',\n",
    "                                      'RB': 'RB','RM': 'RM','RW': 'RW','ST': 'ST',\n",
    "                                      'CF': 'ST','LAM': 'CAM','LCB': 'CB','LCM': 'CM',\n",
    "                                      'LDM': 'CDM','LF': 'LW','LS': 'ST', 'LWB': 'LB',\n",
    "                                      'RAM': 'CAM', 'RCB': 'CB','RCM': 'CM', 'RDM': 'CDM',\n",
    "                                      'RF': 'RW', 'RS': 'ST','RWB': 'RB'})\n",
    "\n",
    "# Remove rows with Position = NaN\n",
    "df.dropna(subset=['Position'], inplace=True)"
   ]
  },
  {
   "cell_type": "code",
   "execution_count": 14,
   "metadata": {},
   "outputs": [],
   "source": [
    "# Function that turn a string variable \"€100M\" to 100,000,000\n",
    "def money_string_replace(variable_name):\n",
    "    df[variable_name] = (df[variable_name].str[1:].replace(r'[KM]+$', '', regex=True).astype(float) *\n",
    "                 df[variable_name].str.extract(r'[\\d\\.]+([KM]+)', expand=False)\n",
    "                 .fillna(1)\n",
    "                 .replace(['K','M'], [10**3, 10**6]).astype(int))\n",
    "\n",
    "money_string_replace('Value')\n",
    "money_string_replace('Wage')\n",
    "money_string_replace('Release Clause')"
   ]
  },
  {
   "cell_type": "code",
   "execution_count": 15,
   "metadata": {},
   "outputs": [],
   "source": [
    "# Creating a dummy variable to identify if a player is left footed or not\n",
    "df.loc[df['Preferred Foot'] == \"Left\", 'Preferred Foot = Left'] = 1\n",
    "df.loc[df['Preferred Foot'] == \"Right\", 'Preferred Foot = Left'] = 0"
   ]
  },
  {
   "cell_type": "code",
   "execution_count": 16,
   "metadata": {},
   "outputs": [],
   "source": [
    "# Splitting the work rate column into attacking and defensive rates.\n",
    "df['Work Rates'] = df['Work Rate'].str.split('/')\n",
    "\n",
    "# Allocating each list item into the according work type\n",
    "df['Attacking Rate'] = df['Work Rates'].str.get(0)\n",
    "\n",
    "# Removing any whitespace\n",
    "df['Attacking Rate'] = df['Attacking Rate'].str.strip()\n",
    "\n",
    "# Creating a numeric variable for each work type\n",
    "df.loc[df['Attacking Rate'] == \"Low\", 'Attacking Rate'] = 1\n",
    "df.loc[df['Attacking Rate'] == \"Medium\", 'Attacking Rate'] = 2\n",
    "df.loc[df['Attacking Rate'] == \"High\", 'Attacking Rate'] = 3\n",
    "\n",
    "df['Defensive Rate'] = df['Work Rates'].str.get(1)\n",
    "df['Defensive Rate'] = df['Defensive Rate'].str.strip()\n",
    "df.loc[df['Defensive Rate'] == \"Low\", 'Defensive Rate'] = 1\n",
    "df.loc[df['Defensive Rate'] == \"Medium\", 'Defensive Rate'] = 2\n",
    "df.loc[df['Defensive Rate'] == \"High\", 'Defensive Rate'] = 3"
   ]
  },
  {
   "cell_type": "code",
   "execution_count": 17,
   "metadata": {},
   "outputs": [],
   "source": [
    "# Converting pounds to kg\n",
    "df[\"Weight\"] = df[\"Weight\"].str[:3].astype(float) /2.205\n",
    "\n",
    "## Converting Feet and Inches string to a CM value\n",
    "# Splitting Feet from Inches\n",
    "df['HeightCM'] = df['Height'].str.split(\"'\")\n",
    "\n",
    "# Further split of feet and inches\n",
    "df['feet'] = df['HeightCM'].str.get(0).astype(float)\n",
    "df['inch'] = df['HeightCM'].str.get(1).astype(float)\n",
    "\n",
    "# Replcaing Old string with new CM value\n",
    "df['Height'] = (df['feet']*12+df['inch'])*2.54\n"
   ]
  },
  {
   "cell_type": "code",
   "execution_count": 22,
   "metadata": {},
   "outputs": [],
   "source": [
    "df.loc[df['Body Type'] == \"Lean\", 'Body Type'] = 1\n",
    "df.loc[df['Body Type'] == \"Normal\", 'Body Type'] = 2\n",
    "df.loc[df['Body Type'] == \"Stocky\", 'Body Type'] = 3\n",
    "df.loc[df['Body Type'] == \"Messi\", 'Body Type'] = 2\n",
    "df.loc[df['Body Type'] == \"C. Ronaldo\", 'Body Type'] = 2\n",
    "df.loc[df['Body Type'] == \"Neymar\", 'Body Type'] = 1\n",
    "df.loc[df['Body Type'] == \"Courtois\", 'Body Type'] = 2\n",
    "df.loc[df['Body Type'] == \"Shaqiri\", 'Body Type'] = 3\n",
    "df.loc[df['Body Type'] == \"Akinfenwa\", 'Body Type'] = 3\n",
    "\n",
    "df.loc[df['Body Type'] == \"PLAYER_BODY_TYPE_25\", 'Body Type'] = np.nan\n",
    "df.dropna(subset=['Body Type'], inplace=True)"
   ]
  },
  {
   "cell_type": "code",
   "execution_count": 24,
   "metadata": {},
   "outputs": [],
   "source": [
    "# Dropping unneccesary columns\n",
    "df.drop([\"Photo\",\"Flag\",\"Club Logo\",\"Special\",\"ID\",'Preferred Foot','Real Face',\n",
    "        'Jersey Number','Loaned From','LS','ST','RS','LW','LF','CF',\n",
    "        'RF','RW','LAM','CAM','RAM','LM', 'LB','LCB','CB','RCB',\n",
    "        'RB','LCM','CM','RCM','RM','LWB','LDM','CDM','RDM','RWB',\n",
    "        'Work Rate','Work Rates', 'HeightCM', 'feet', 'inch'],\n",
    "        axis=1, inplace=True)"
   ]
  },
  {
   "cell_type": "code",
   "execution_count": 25,
   "metadata": {},
   "outputs": [],
   "source": [
    "df.to_csv('data/processed/clean_dataset.csv')"
   ]
  },
  {
   "cell_type": "code",
   "execution_count": null,
   "metadata": {},
   "outputs": [],
   "source": []
  }
 ],
 "metadata": {
  "kernelspec": {
   "display_name": "Python 3",
   "language": "python",
   "name": "python3"
  },
  "language_info": {
   "codemirror_mode": {
    "name": "ipython",
    "version": 3
   },
   "file_extension": ".py",
   "mimetype": "text/x-python",
   "name": "python",
   "nbconvert_exporter": "python",
   "pygments_lexer": "ipython3",
   "version": "3.7.4"
  }
 },
 "nbformat": 4,
 "nbformat_minor": 4
}
