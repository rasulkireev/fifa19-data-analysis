{
 "cells": [
  {
   "cell_type": "code",
   "execution_count": 23,
   "metadata": {
    "scrolled": true
   },
   "outputs": [],
   "source": [
    "%matplotlib notebook\n",
    "import pandas as pd\n",
    "import matplotlib.pyplot as plt\n",
    "import numpy as np\n",
    "from sklearn import preprocessing\n",
    "from IPython.display import display #This will help displaying two 'returns' in one output cell\n"
   ]
  },
  {
   "cell_type": "code",
   "execution_count": 24,
   "metadata": {
    "scrolled": true
   },
   "outputs": [],
   "source": [
    "for_ml = pd.read_csv('reduced_clean_data.csv', index_col=0)\n",
    "\n",
    "# Convert position to numbers\n",
    "# le = preprocessing.LabelEncoder()\n",
    "# for_ml['position'] = le.fit_transform(for_ml['position'])\n",
    "\n",
    "### Instead on Nan and NA values the average of that column will be entered\n",
    "for_ml = for_ml.fillna(for_ml.mean())"
   ]
  },
  {
   "cell_type": "code",
   "execution_count": 25,
   "metadata": {},
   "outputs": [
    {
     "data": {
      "text/plain": [
       "Index(['name', 'age', 'nationality', 'overall', 'potential', 'club', 'value',\n",
       "       'wage', 'international reputation', 'weak foot', 'skill moves',\n",
       "       'body type', 'position', 'joined', 'contract valid until', 'height',\n",
       "       'weight', 'aggression', 'release clause', 'preferred foot = left',\n",
       "       'improvement', 'attacking rate', 'defensive rate', 'control',\n",
       "       'defending', 'gk', 'passing', 'physical', 'shooting', 'skill', 'speed',\n",
       "       'heading'],\n",
       "      dtype='object')"
      ]
     },
     "execution_count": 25,
     "metadata": {},
     "output_type": "execute_result"
    }
   ],
   "source": [
    "for_ml.columns"
   ]
  },
  {
   "cell_type": "code",
   "execution_count": 72,
   "metadata": {},
   "outputs": [],
   "source": [
    "from sklearn.model_selection import train_test_split\n",
    "\n",
    "\n",
    "ages = [17,18,19]\n",
    "for_ml = for_ml[for_ml.age.isin(ages)]\n",
    "\n",
    "# Specify the features of interest and the classes of the target\n",
    "features = [\n",
    "    'height','weight', 'speed','weak foot','shooting', 'defending', 'attacking rate', 'defensive rate','physical'\n",
    "]\n",
    "classes = for_ml.position.unique()\n",
    "\n",
    "# Extract the instances and target\n",
    "X = for_ml[features]\n",
    "y = for_ml.position\n",
    "\n",
    "# Create the train and test data\n",
    "X_train, X_test, y_train, y_test = train_test_split(X, y, test_size=0.2)"
   ]
  },
  {
   "cell_type": "code",
   "execution_count": 79,
   "metadata": {},
   "outputs": [
    {
     "name": "stdout",
     "output_type": "stream",
     "text": [
      "LinearSVC accuracy :  0.5980392156862745\n"
     ]
    },
    {
     "name": "stderr",
     "output_type": "stream",
     "text": [
      "C:\\Users\\u1082926\\AppData\\Local\\Continuum\\anaconda3\\lib\\site-packages\\sklearn\\svm\\base.py:929: ConvergenceWarning: Liblinear failed to converge, increase the number of iterations.\n",
      "  \"the number of iterations.\", ConvergenceWarning)\n"
     ]
    }
   ],
   "source": [
    "from sklearn.svm import LinearSVC, KNeighborsClassifier\n",
    "from sklearn.metrics import accuracy_score\n",
    "\n",
    "\n",
    "#create an object of type LinearSVC\n",
    "svc_model = LinearSVC(max_iter=2000, random_state=10)\n",
    "\n",
    "#train the algorithm on training data and predict using the testing data\n",
    "pred = svc_model.fit(X_train, y_train).predict(X_test)\n",
    "\n",
    "print(\"LinearSVC accuracy : \", accuracy_score(y_test, pred))"
   ]
  },
  {
   "cell_type": "code",
   "execution_count": 80,
   "metadata": {},
   "outputs": [
    {
     "name": "stdout",
     "output_type": "stream",
     "text": [
      "KNeighbors accuracy score :  0.571078431372549\n"
     ]
    }
   ],
   "source": [
    "#import necessary modules\n",
    "from sklearn.neighbors import KNeighborsClassifier\n",
    "from sklearn.metrics import accuracy_score\n",
    "\n",
    "neigh = KNeighborsClassifier(n_neighbors=3)\n",
    "#Train the algorithm\n",
    "neigh.fit(X_train, y_train)\n",
    "\n",
    "# predict the response\n",
    "pred = neigh.predict(X_test)\n",
    "# evaluate accuracy\n",
    "print (\"KNeighbors accuracy score : \", accuracy_score(y_test, pred))"
   ]
  },
  {
   "cell_type": "code",
   "execution_count": null,
   "metadata": {},
   "outputs": [],
   "source": []
  }
 ],
 "metadata": {
  "kernelspec": {
   "display_name": "Python 3",
   "language": "python",
   "name": "python3"
  },
  "language_info": {
   "codemirror_mode": {
    "name": "ipython",
    "version": 3
   },
   "file_extension": ".py",
   "mimetype": "text/x-python",
   "name": "python",
   "nbconvert_exporter": "python",
   "pygments_lexer": "ipython3",
   "version": "3.7.4"
  }
 },
 "nbformat": 4,
 "nbformat_minor": 2
}
