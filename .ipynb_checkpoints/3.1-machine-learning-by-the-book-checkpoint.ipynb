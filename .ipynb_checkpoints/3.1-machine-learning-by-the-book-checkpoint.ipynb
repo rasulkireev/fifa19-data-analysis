{
 "cells": [
  {
   "cell_type": "code",
   "execution_count": 1,
   "metadata": {},
   "outputs": [],
   "source": [
    "%matplotlib inline\n",
    "\n",
    "# Standard Libraries to import\n",
    "import pandas as pd\n",
    "import matplotlib.pyplot as plt\n",
    "import numpy as np\n",
    "\n",
    "dataset = pd.read_csv('data/processed/clean_dataset.csv', index_col=0)\n"
   ]
  },
  {
   "cell_type": "code",
   "execution_count": 2,
   "metadata": {},
   "outputs": [
    {
     "data": {
      "text/plain": [
       "Index(['age', 'overall', 'potential', 'value', 'wage',\n",
       "       'international reputation', 'weak foot', 'skill moves', 'body type',\n",
       "       'position', 'height', 'weight', 'crossing', 'finishing',\n",
       "       'headingaccuracy', 'shortpassing', 'volleys', 'dribbling', 'curve',\n",
       "       'fkaccuracy', 'longpassing', 'ballcontrol', 'acceleration',\n",
       "       'sprintspeed', 'agility', 'reactions', 'balance', 'shotpower',\n",
       "       'jumping', 'stamina', 'strength', 'longshots', 'aggression',\n",
       "       'interceptions', 'positioning', 'vision', 'penalties', 'composure',\n",
       "       'marking', 'standingtackle', 'slidingtackle', 'gkdiving', 'gkhandling',\n",
       "       'gkkicking', 'gkpositioning', 'gkreflexes', 'preferred foot = left',\n",
       "       'attacking rate', 'defensive rate'],\n",
       "      dtype='object')"
      ]
     },
     "execution_count": 2,
     "metadata": {},
     "output_type": "execute_result"
    }
   ],
   "source": [
    "dataset.columns"
   ]
  },
  {
   "cell_type": "code",
   "execution_count": 3,
   "metadata": {},
   "outputs": [
    {
     "name": "stdout",
     "output_type": "stream",
     "text": [
      "<class 'pandas.core.frame.DataFrame'>\n",
      "Int64Index: 18146 entries, 0 to 18206\n",
      "Data columns (total 49 columns):\n",
      "age                         18146 non-null int64\n",
      "overall                     18146 non-null int64\n",
      "potential                   18146 non-null int64\n",
      "value                       18146 non-null float64\n",
      "wage                        18146 non-null float64\n",
      "international reputation    18146 non-null float64\n",
      "weak foot                   18146 non-null float64\n",
      "skill moves                 18146 non-null float64\n",
      "body type                   18146 non-null int64\n",
      "position                    18146 non-null object\n",
      "height                      18146 non-null float64\n",
      "weight                      18146 non-null float64\n",
      "crossing                    18146 non-null float64\n",
      "finishing                   18146 non-null float64\n",
      "headingaccuracy             18146 non-null float64\n",
      "shortpassing                18146 non-null float64\n",
      "volleys                     18146 non-null float64\n",
      "dribbling                   18146 non-null float64\n",
      "curve                       18146 non-null float64\n",
      "fkaccuracy                  18146 non-null float64\n",
      "longpassing                 18146 non-null float64\n",
      "ballcontrol                 18146 non-null float64\n",
      "acceleration                18146 non-null float64\n",
      "sprintspeed                 18146 non-null float64\n",
      "agility                     18146 non-null float64\n",
      "reactions                   18146 non-null float64\n",
      "balance                     18146 non-null float64\n",
      "shotpower                   18146 non-null float64\n",
      "jumping                     18146 non-null float64\n",
      "stamina                     18146 non-null float64\n",
      "strength                    18146 non-null float64\n",
      "longshots                   18146 non-null float64\n",
      "aggression                  18146 non-null float64\n",
      "interceptions               18146 non-null float64\n",
      "positioning                 18146 non-null float64\n",
      "vision                      18146 non-null float64\n",
      "penalties                   18146 non-null float64\n",
      "composure                   18146 non-null float64\n",
      "marking                     18146 non-null float64\n",
      "standingtackle              18146 non-null float64\n",
      "slidingtackle               18146 non-null float64\n",
      "gkdiving                    18146 non-null float64\n",
      "gkhandling                  18146 non-null float64\n",
      "gkkicking                   18146 non-null float64\n",
      "gkpositioning               18146 non-null float64\n",
      "gkreflexes                  18146 non-null float64\n",
      "preferred foot = left       18146 non-null float64\n",
      "attacking rate              18146 non-null int64\n",
      "defensive rate              18146 non-null int64\n",
      "dtypes: float64(42), int64(6), object(1)\n",
      "memory usage: 6.9+ MB\n"
     ]
    }
   ],
   "source": [
    "dataset.info()"
   ]
  },
  {
   "cell_type": "markdown",
   "metadata": {},
   "source": [
    "# Creating a test set"
   ]
  },
  {
   "cell_type": "code",
   "execution_count": 4,
   "metadata": {},
   "outputs": [
    {
     "data": {
      "text/plain": [
       "<matplotlib.axes._subplots.AxesSubplot at 0xfacb648>"
      ]
     },
     "execution_count": 4,
     "metadata": {},
     "output_type": "execute_result"
    },
    {
     "data": {
      "image/png": "[encoded data removed]",
      "text/plain": [
       "<Figure size 432x288 with 1 Axes>"
      ]
     },
     "metadata": {
      "needs_background": "light"
     },
     "output_type": "display_data"
    }
   ],
   "source": [
    "dataset.overall.hist(bins=[i for i in range(40,100+1,5)])"
   ]
  },
  {
   "cell_type": "code",
   "execution_count": 5,
   "metadata": {},
   "outputs": [
    {
     "data": {
      "text/plain": [
       "<matplotlib.axes._subplots.AxesSubplot at 0x11b92288>"
      ]
     },
     "execution_count": 5,
     "metadata": {},
     "output_type": "execute_result"
    },
    {
     "data": {
      "image/png": "[encoded data removed]",
      "text/plain": [
       "<Figure size 432x288 with 1 Axes>"
      ]
     },
     "metadata": {
      "needs_background": "light"
     },
     "output_type": "display_data"
    }
   ],
   "source": [
    "# Create a column that will categorize Overall Skills level into bins. \n",
    "\n",
    "custom_bins = [i for i in range(45,100,5)]\n",
    "\n",
    "dataset['overall_bins'] = pd.cut(dataset['overall'],\n",
    "                                bins=custom_bins,\n",
    "                                labels=[i for i in range(len(custom_bins)-1)])\n",
    "\n",
    "dataset['overall_bins'].hist()\n"
   ]
  },
  {
   "cell_type": "code",
   "execution_count": 6,
   "metadata": {},
   "outputs": [],
   "source": [
    "### Split the dataset into test and training using train_test_split with an option to dod the stratified split to correctly reflect distribution.\n",
    "\n",
    "\n",
    "from sklearn.model_selection import train_test_split\n",
    "\n",
    "strat_train_set, strat_test_set = train_test_split(\n",
    "    dataset, test_size=0.2, random_state=42, stratify=dataset[\"overall_bins\"])"
   ]
  },
  {
   "cell_type": "code",
   "execution_count": 7,
   "metadata": {},
   "outputs": [
    {
     "name": "stdout",
     "output_type": "stream",
     "text": [
      "4    0.285124\n",
      "3    0.257851\n",
      "5    0.175207\n",
      "2    0.130028\n",
      "6    0.063912\n",
      "1    0.054821\n",
      "7    0.018457\n",
      "0    0.010468\n",
      "8    0.003581\n",
      "9    0.000551\n",
      "Name: overall_bins, dtype: float64\n",
      "3630\n"
     ]
    }
   ],
   "source": [
    "print(strat_test_set[\"overall_bins\"].value_counts()/len(strat_test_set))\n",
    "print(len(strat_test_set.overall))"
   ]
  },
  {
   "cell_type": "code",
   "execution_count": 8,
   "metadata": {},
   "outputs": [
    {
     "name": "stderr",
     "output_type": "stream",
     "text": [
      "c:\\users\\u1082926\\desktop\\ps\\research\\fifa19\\venv\\lib\\site-packages\\pandas\\core\\frame.py:4102: SettingWithCopyWarning: \n",
      "A value is trying to be set on a copy of a slice from a DataFrame\n",
      "\n",
      "See the caveats in the documentation: http://pandas.pydata.org/pandas-docs/stable/user_guide/indexing.html#returning-a-view-versus-a-copy\n",
      "  errors=errors,\n"
     ]
    }
   ],
   "source": [
    "# Now you should remove the income_cat attribute so the data is back to its original state:\n",
    "\n",
    "for set_ in (strat_train_set, strat_test_set):\n",
    "    set_.drop(\"overall_bins\", axis=1, inplace=True)"
   ]
  },
  {
   "cell_type": "markdown",
   "metadata": {},
   "source": [
    "# Correlation and Visualization"
   ]
  },
  {
   "cell_type": "code",
   "execution_count": 9,
   "metadata": {},
   "outputs": [],
   "source": [
    "# Copy the training set so that you can work on it separately\n",
    "training_dataset = strat_train_set.copy()"
   ]
  },
  {
   "cell_type": "code",
   "execution_count": 10,
   "metadata": {},
   "outputs": [
    {
     "data": {
      "text/plain": [
       "<matplotlib.axes._subplots.AxesSubplot at 0x13d31f48>"
      ]
     },
     "execution_count": 10,
     "metadata": {},
     "output_type": "execute_result"
    },
    {
     "data": {
      "image/png": "[encoded data removed]",
      "text/plain": [
       "<Figure size 432x288 with 1 Axes>"
      ]
     },
     "metadata": {
      "needs_background": "light"
     },
     "output_type": "display_data"
    }
   ],
   "source": [
    "dataset.plot(kind=\"scatter\"\n",
    "             ,x=\"overall\"\n",
    "             , y=\"value\"\n",
    "             , alpha=0.1)"
   ]
  },
  {
   "cell_type": "code",
   "execution_count": 12,
   "metadata": {},
   "outputs": [
    {
     "data": {
      "text/plain": [
       "value                       1.000000\n",
       "wage                        0.857345\n",
       "international reputation    0.652989\n",
       "overall                     0.627604\n",
       "potential                   0.577120\n",
       "reactions                   0.540767\n",
       "composure                   0.450397\n",
       "vision                      0.357699\n",
       "shortpassing                0.327846\n",
       "skill moves                 0.315484\n",
       "ballcontrol                 0.308896\n",
       "longpassing                 0.302460\n",
       "volleys                     0.288296\n",
       "curve                       0.287089\n",
       "shotpower                   0.281684\n",
       "longshots                   0.279633\n",
       "dribbling                   0.271916\n",
       "fkaccuracy                  0.266201\n",
       "positioning                 0.259094\n",
       "finishing                   0.256308\n",
       "crossing                    0.249776\n",
       "penalties                   0.239631\n",
       "stamina                     0.210719\n",
       "agility                     0.193922\n",
       "aggression                  0.185013\n",
       "headingaccuracy             0.184903\n",
       "sprintspeed                 0.172258\n",
       "acceleration                0.170069\n",
       "weak foot                   0.165975\n",
       "attacking rate              0.152277\n",
       "interceptions               0.140918\n",
       "marking                     0.134687\n",
       "strength                    0.129057\n",
       "jumping                     0.124813\n",
       "balance                     0.113175\n",
       "standingtackle              0.108941\n",
       "slidingtackle               0.088169\n",
       "age                         0.075494\n",
       "defensive rate              0.055038\n",
       "weight                      0.046418\n",
       "preferred foot = left       0.015635\n",
       "height                      0.003169\n",
       "body type                  -0.005176\n",
       "gkpositioning              -0.027819\n",
       "gkreflexes                 -0.028592\n",
       "gkdiving                   -0.028635\n",
       "gkhandling                 -0.028979\n",
       "gkkicking                  -0.030791\n",
       "Name: value, dtype: float64"
      ]
     },
     "execution_count": 12,
     "metadata": {},
     "output_type": "execute_result"
    }
   ],
   "source": [
    "corr_matrix = dataset.corr()\n",
    "\n",
    "corr_matrix[\"value\"].sort_values(ascending=False)"
   ]
  },
  {
   "cell_type": "code",
   "execution_count": 13,
   "metadata": {},
   "outputs": [
    {
     "data": {
      "text/plain": [
       "<matplotlib.axes._subplots.AxesSubplot at 0x148b7e48>"
      ]
     },
     "execution_count": 13,
     "metadata": {},
     "output_type": "execute_result"
    },
    {
     "data": {
      "image/png": "[encoded data removed]",
      "text/plain": [
       "<Figure size 432x288 with 1 Axes>"
      ]
     },
     "metadata": {
      "needs_background": "light"
     },
     "output_type": "display_data"
    }
   ],
   "source": [
    "dataset.plot(kind=\"scatter\"\n",
    "             ,x=\"wage\"\n",
    "             , y=\"value\"\n",
    "             , alpha=0.1)"
   ]
  },
  {
   "cell_type": "markdown",
   "metadata": {},
   "source": [
    "# Prepare the Data for Machine Learning Algorithms"
   ]
  },
  {
   "cell_type": "code",
   "execution_count": null,
   "metadata": {},
   "outputs": [],
   "source": []
  }
 ],
 "metadata": {
  "kernelspec": {
   "display_name": "Python 3",
   "language": "python",
   "name": "python3"
  },
  "language_info": {
   "codemirror_mode": {
    "name": "ipython",
    "version": 3
   },
   "file_extension": ".py",
   "mimetype": "text/x-python",
   "name": "python",
   "nbconvert_exporter": "python",
   "pygments_lexer": "ipython3",
   "version": "3.7.4"
  }
 },
 "nbformat": 4,
 "nbformat_minor": 4
}
