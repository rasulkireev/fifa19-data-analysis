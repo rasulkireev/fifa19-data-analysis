{
 "cells": [
  {
   "cell_type": "code",
   "execution_count": 12,
   "metadata": {},
   "outputs": [],
   "source": [
    "import pandas as pd\n",
    "import numpy as np\n",
    "\n",
    "# Display all floats with 2 decimals\n",
    "pd.options.display.float_format = '{:.2f}'.format\n",
    "\n",
    "df = pd.read_csv('data/raw/data.csv', index_col=0)"
   ]
  },
  {
   "cell_type": "code",
   "execution_count": 13,
   "metadata": {},
   "outputs": [],
   "source": [
    "df['Position'] = df['Position'].map({'GK': 'GK', 'CAM': 'CAM','CB': 'CB', 'CDM': 'CDM',\n",
    "                                      'CM': 'CM','LB': 'LB','LM': 'LM','LW': 'LW',\n",
    "                                      'RB': 'RB','RM': 'RM','RW': 'RW','ST': 'ST',\n",
    "                                      'CF': 'ST','LAM': 'CAM','LCB': 'CB','LCM': 'CM',\n",
    "                                      'LDM': 'CDM','LF': 'LW','LS': 'ST', 'LWB': 'LB',\n",
    "                                      'RAM': 'CAM', 'RCB': 'CB','RCM': 'CM', 'RDM': 'CDM',\n",
    "                                      'RF': 'RW', 'RS': 'ST','RWB': 'RB'})\n",
    "\n",
    "# Remove rows with Position = NaN\n",
    "df.dropna(subset=['Position'], inplace=True)"
   ]
  },
  {
   "cell_type": "code",
   "execution_count": 14,
   "metadata": {},
   "outputs": [],
   "source": [
    "# Function that turn a string variable \"€100M\" to 100,000,000\n",
    "def money_string_replace(variable_name):\n",
    "    df[variable_name] = (df[variable_name].str[1:].replace(r'[KM]+$', '', regex=True).astype(float) *\n",
    "                 df[variable_name].str.extract(r'[\\d\\.]+([KM]+)', expand=False)\n",
    "                 .fillna(1)\n",
    "                 .replace(['K','M'], [10**3, 10**6]).astype(int))\n",
    "\n",
    "money_string_replace('Value')\n",
    "money_string_replace('Wage')\n",
    "money_string_replace('Release Clause')"
   ]
  },
  {
   "cell_type": "code",
   "execution_count": 15,
   "metadata": {},
   "outputs": [],
   "source": [
    "# Creating a dummy variable to identify if a player is left footed or not\n",
    "df.loc[df['Preferred Foot'] == \"Left\", 'Preferred Foot = Left'] = 1\n",
    "df.loc[df['Preferred Foot'] == \"Right\", 'Preferred Foot = Left'] = 0"
   ]
  },
  {
   "cell_type": "code",
   "execution_count": 16,
   "metadata": {},
   "outputs": [],
   "source": [
    "# Splitting the work rate column into attacking and defensive rates.\n",
    "df['Work Rates'] = df['Work Rate'].str.split('/')\n",
    "\n",
    "# Allocating each list item into the according work type\n",
    "df['Attacking Rate'] = df['Work Rates'].str.get(0)\n",
    "\n",
    "# Removing any whitespace\n",
    "df['Attacking Rate'] = df['Attacking Rate'].str.strip()\n",
    "\n",
    "# Creating a numeric variable for each work type\n",
    "df.loc[df['Attacking Rate'] == \"Low\", 'Attacking Rate'] = 1\n",
    "df.loc[df['Attacking Rate'] == \"Medium\", 'Attacking Rate'] = 2\n",
    "df.loc[df['Attacking Rate'] == \"High\", 'Attacking Rate'] = 3\n",
    "\n",
    "df['Defensive Rate'] = df['Work Rates'].str.get(1)\n",
    "df['Defensive Rate'] = df['Defensive Rate'].str.strip()\n",
    "df.loc[df['Defensive Rate'] == \"Low\", 'Defensive Rate'] = 1\n",
    "df.loc[df['Defensive Rate'] == \"Medium\", 'Defensive Rate'] = 2\n",
    "df.loc[df['Defensive Rate'] == \"High\", 'Defensive Rate'] = 3"
   ]
  },
  {
   "cell_type": "code",
   "execution_count": 17,
   "metadata": {},
   "outputs": [],
   "source": [
    "# Converting pounds to kg\n",
    "df[\"Weight\"] = df[\"Weight\"].str[:3].astype(float) /2.205\n",
    "\n",
    "## Converting Feet and Inches string to a CM value\n",
    "# Splitting Feet from Inches\n",
    "df['HeightCM'] = df['Height'].str.split(\"'\")\n",
    "\n",
    "# Further split of feet and inches\n",
    "df['feet'] = df['HeightCM'].str.get(0).astype(float)\n",
    "df['inch'] = df['HeightCM'].str.get(1).astype(float)\n",
    "\n",
    "# Replcaing Old string with new CM value\n",
    "df['Height'] = (df['feet']*12+df['inch'])*2.54\n"
   ]
  },
  {
   "cell_type": "code",
   "execution_count": 18,
   "metadata": {},
   "outputs": [
    {
     "data": {
      "text/plain": [
       "0        2\n",
       "1        2\n",
       "2        1\n",
       "3        1\n",
       "4        2\n",
       "        ..\n",
       "18202    1\n",
       "18203    2\n",
       "18204    2\n",
       "18205    1\n",
       "18206    1\n",
       "Name: Body Type, Length: 18146, dtype: int64"
      ]
     },
     "execution_count": 18,
     "metadata": {},
     "output_type": "execute_result"
    }
   ],
   "source": [
    "df.loc[df['Body Type'] == \"Lean\", 'Body Type'] = 1\n",
    "df.loc[df['Body Type'] == \"Normal\", 'Body Type'] = 2\n",
    "df.loc[df['Body Type'] == \"Stocky\", 'Body Type'] = 3\n",
    "df.loc[df['Body Type'] == \"Messi\", 'Body Type'] = 2\n",
    "df.loc[df['Body Type'] == \"C. Ronaldo\", 'Body Type'] = 2\n",
    "df.loc[df['Body Type'] == \"Neymar\", 'Body Type'] = 1\n",
    "df.loc[df['Body Type'] == \"Courtois\", 'Body Type'] = 2\n",
    "df.loc[df['Body Type'] == \"Shaqiri\", 'Body Type'] = 3\n",
    "df.loc[df['Body Type'] == \"Akinfenwa\", 'Body Type'] = 3\n",
    "\n",
    "df.loc[df['Body Type'] == \"PLAYER_BODY_TYPE_25\", 'Body Type'] = np.nan\n",
    "df.dropna(subset=['Body Type'], inplace=True)\n",
    "df['Body Type'].astype('int64')"
   ]
  },
  {
   "cell_type": "code",
   "execution_count": 19,
   "metadata": {},
   "outputs": [],
   "source": [
    "# Dropping unneccesary columns\n",
    "df.drop([\"Name\",\"Nationality\",'Club','Joined','Contract Valid Until','Release Clause',\n",
    "        \"Photo\",\"Flag\",\"Club Logo\",\"Special\",\"ID\",'Preferred Foot','Real Face',\n",
    "        'Jersey Number','Loaned From','LS','ST','RS','LW','LF','CF',\n",
    "        'RF','RW','LAM','CAM','RAM','LM', 'LB','LCB','CB','RCB',\n",
    "        'RB','LCM','CM','RCM','RM','LWB','LDM','CDM','RDM','RWB',\n",
    "        'Work Rate','Work Rates', 'HeightCM', 'feet', 'inch'],\n",
    "        axis=1, inplace=True)\n",
    "\n",
    "df.columns = map(str.lower, df.columns)"
   ]
  },
  {
   "cell_type": "code",
   "execution_count": 20,
   "metadata": {},
   "outputs": [
    {
     "name": "stdout",
     "output_type": "stream",
     "text": [
      "<class 'pandas.core.frame.DataFrame'>\n",
      "Int64Index: 18146 entries, 0 to 18206\n",
      "Data columns (total 49 columns):\n",
      "age                         18146 non-null int64\n",
      "overall                     18146 non-null int64\n",
      "potential                   18146 non-null int64\n",
      "value                       18146 non-null float64\n",
      "wage                        18146 non-null float64\n",
      "international reputation    18146 non-null float64\n",
      "weak foot                   18146 non-null float64\n",
      "skill moves                 18146 non-null float64\n",
      "body type                   18146 non-null object\n",
      "position                    18146 non-null object\n",
      "height                      18146 non-null float64\n",
      "weight                      18146 non-null float64\n",
      "crossing                    18146 non-null float64\n",
      "finishing                   18146 non-null float64\n",
      "headingaccuracy             18146 non-null float64\n",
      "shortpassing                18146 non-null float64\n",
      "volleys                     18146 non-null float64\n",
      "dribbling                   18146 non-null float64\n",
      "curve                       18146 non-null float64\n",
      "fkaccuracy                  18146 non-null float64\n",
      "longpassing                 18146 non-null float64\n",
      "ballcontrol                 18146 non-null float64\n",
      "acceleration                18146 non-null float64\n",
      "sprintspeed                 18146 non-null float64\n",
      "agility                     18146 non-null float64\n",
      "reactions                   18146 non-null float64\n",
      "balance                     18146 non-null float64\n",
      "shotpower                   18146 non-null float64\n",
      "jumping                     18146 non-null float64\n",
      "stamina                     18146 non-null float64\n",
      "strength                    18146 non-null float64\n",
      "longshots                   18146 non-null float64\n",
      "aggression                  18146 non-null float64\n",
      "interceptions               18146 non-null float64\n",
      "positioning                 18146 non-null float64\n",
      "vision                      18146 non-null float64\n",
      "penalties                   18146 non-null float64\n",
      "composure                   18146 non-null float64\n",
      "marking                     18146 non-null float64\n",
      "standingtackle              18146 non-null float64\n",
      "slidingtackle               18146 non-null float64\n",
      "gkdiving                    18146 non-null float64\n",
      "gkhandling                  18146 non-null float64\n",
      "gkkicking                   18146 non-null float64\n",
      "gkpositioning               18146 non-null float64\n",
      "gkreflexes                  18146 non-null float64\n",
      "preferred foot = left       18146 non-null float64\n",
      "attacking rate              18146 non-null int64\n",
      "defensive rate              18146 non-null int64\n",
      "dtypes: float64(42), int64(5), object(2)\n",
      "memory usage: 6.9+ MB\n"
     ]
    }
   ],
   "source": [
    "df.info()"
   ]
  },
  {
   "cell_type": "code",
   "execution_count": 21,
   "metadata": {},
   "outputs": [],
   "source": [
    "df.to_csv('data/processed/clean_dataset.csv')"
   ]
  },
  {
   "cell_type": "code",
   "execution_count": null,
   "metadata": {},
   "outputs": [],
   "source": []
  }
 ],
 "metadata": {
  "kernelspec": {
   "display_name": "Python 3",
   "language": "python",
   "name": "python3"
  },
  "language_info": {
   "codemirror_mode": {
    "name": "ipython",
    "version": 3
   },
   "file_extension": ".py",
   "mimetype": "text/x-python",
   "name": "python",
   "nbconvert_exporter": "python",
   "pygments_lexer": "ipython3",
   "version": "3.7.4"
  }
 },
 "nbformat": 4,
 "nbformat_minor": 4
}
